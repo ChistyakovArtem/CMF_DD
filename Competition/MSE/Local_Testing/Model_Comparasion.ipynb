{
 "cells": [
  {
   "cell_type": "code",
   "execution_count": 1,
   "outputs": [],
   "source": [
    "import pandas as pd\n",
    "\n",
    "from initating import initiate\n",
    "initiate()"
   ],
   "metadata": {
    "collapsed": false
   }
  },
  {
   "cell_type": "code",
   "execution_count": 2,
   "metadata": {
    "collapsed": true
   },
   "outputs": [],
   "source": [
    "from Model_Tester import test_model"
   ]
  },
  {
   "cell_type": "markdown",
   "source": [
    "## Import models"
   ],
   "metadata": {
    "collapsed": false
   }
  },
  {
   "cell_type": "code",
   "execution_count": 3,
   "outputs": [],
   "source": [
    "from Models.Baseline import MyModel as Baseline\n",
    "from Models.BaseLinearRegression import MyModel as LinReg\n",
    "from Models.Lasso import MyModel as Lasso"
   ],
   "metadata": {
    "collapsed": false
   }
  },
  {
   "cell_type": "code",
   "execution_count": null,
   "outputs": [
    {
     "name": "stderr",
     "output_type": "stream",
     "text": [
      "C:\\Users\\artem\\.Computer Science\\CMF\\Projects\\Data_Driven\\Competition\\MSE\\Local_Testing\\Models\\Lasso.py:26: PerformanceWarning: dropping on a non-lexsorted multi-index without a level parameter may impact performance.\n",
      "  x = df.drop(columns=['delta'])\n"
     ]
    },
    {
     "name": "stdout",
     "output_type": "stream",
     "text": [
      "[-0.00000000e+00 -0.00000000e+00 -0.00000000e+00  3.66248596e-03\n",
      " -0.00000000e+00 -0.00000000e+00 -0.00000000e+00 -0.00000000e+00\n",
      " -5.10819361e-04 -2.23273610e-03 -0.00000000e+00 -0.00000000e+00\n",
      "  4.21826354e-04 -5.65796111e-04  0.00000000e+00 -1.21931475e-04\n",
      " -0.00000000e+00 -5.26455996e-03 -0.00000000e+00 -0.00000000e+00\n",
      "  1.00184607e-03 -0.00000000e+00 -0.00000000e+00 -0.00000000e+00\n",
      " -0.00000000e+00 -1.27066648e-04 -1.84620095e-03 -0.00000000e+00\n",
      " -6.79607824e-04  2.82710000e-04 -4.41790383e-04  0.00000000e+00\n",
      " -3.43612719e-05 -0.00000000e+00 -0.00000000e+00 -0.00000000e+00\n",
      " -0.00000000e+00 -0.00000000e+00 -0.00000000e+00 -0.00000000e+00\n",
      " -0.00000000e+00 -0.00000000e+00 -4.61675642e-04 -6.50154346e-04\n",
      " -0.00000000e+00 -0.00000000e+00  0.00000000e+00 -1.46374144e-04\n",
      "  4.41036817e-05  6.26852127e-05 -0.00000000e+00 -1.18008046e-04\n",
      " -0.00000000e+00 -0.00000000e+00 -7.80530680e-04 -0.00000000e+00\n",
      " -0.00000000e+00 -0.00000000e+00 -0.00000000e+00 -2.16749034e-04\n",
      " -9.36772970e-04 -0.00000000e+00  0.00000000e+00 -0.00000000e+00\n",
      " -0.00000000e+00  0.00000000e+00  8.95246238e-05 -3.11112642e-05\n",
      " -1.55958556e-03 -0.00000000e+00 -0.00000000e+00 -2.04653374e-03\n",
      " -0.00000000e+00 -0.00000000e+00 -0.00000000e+00 -0.00000000e+00\n",
      " -8.06405928e-06 -0.00000000e+00 -0.00000000e+00  0.00000000e+00\n",
      " -6.10475116e-04 -2.02696928e-04 -0.00000000e+00  2.48912035e-05\n",
      "  0.00000000e+00 -0.00000000e+00 -0.00000000e+00 -0.00000000e+00\n",
      " -2.93172423e-03 -0.00000000e+00 -0.00000000e+00 -0.00000000e+00\n",
      " -0.00000000e+00  1.02420177e-03  2.63536880e-03  0.00000000e+00\n",
      "  7.16692836e-04 -5.56713260e-04  6.76026989e-04 -0.00000000e+00\n",
      "  3.14993379e-04  1.13190906e-04  3.25086275e-03 -0.00000000e+00\n",
      " -0.00000000e+00 -2.00445239e-03 -0.00000000e+00 -0.00000000e+00\n",
      " -0.00000000e+00 -0.00000000e+00  0.00000000e+00  2.04675072e-03\n",
      "  4.61281092e-04  5.86960811e-04  0.00000000e+00  3.99471686e-04\n",
      "  0.00000000e+00  1.24072576e-04  0.00000000e+00  0.00000000e+00\n",
      " -0.00000000e+00 -0.00000000e+00  0.00000000e+00 -0.00000000e+00\n",
      " -0.00000000e+00 -6.23412230e-04 -0.00000000e+00  6.45847052e-04\n",
      "  5.41245876e-04  0.00000000e+00  0.00000000e+00  0.00000000e+00\n",
      "  4.61136114e-05  0.00000000e+00 -0.00000000e+00  7.90260553e-06\n",
      "  0.00000000e+00 -0.00000000e+00 -0.00000000e+00  1.38374369e-03\n",
      " -0.00000000e+00 -0.00000000e+00 -0.00000000e+00 -0.00000000e+00\n",
      "  7.75072538e-04  1.04559938e-03 -0.00000000e+00 -9.56544033e-05\n",
      "  1.96864512e-05  0.00000000e+00  5.50665556e-05 -0.00000000e+00\n",
      "  0.00000000e+00  0.00000000e+00 -0.00000000e+00 -0.00000000e+00\n",
      "  1.99463678e-03 -0.00000000e+00 -0.00000000e+00 -0.00000000e+00\n",
      " -0.00000000e+00  9.10105085e-04  3.14506065e-04 -0.00000000e+00\n",
      " -4.81276565e-04  3.49313919e-04 -0.00000000e+00  9.19590558e-04\n",
      " -0.00000000e+00  0.00000000e+00  0.00000000e+00 -1.58450284e-03\n",
      "  0.00000000e+00  0.00000000e+00  0.00000000e+00 -0.00000000e+00\n",
      "  2.53694249e-03 -0.00000000e+00 -7.34843740e-04 -0.00000000e+00\n",
      " -0.00000000e+00 -0.00000000e+00]\n",
      "MultiIndex([(        'bid_price_0', 'nunique'),\n",
      "            (        'bid_price_0',    'mean'),\n",
      "            (        'bid_price_0',  'median'),\n",
      "            (        'bid_price_0',     'std'),\n",
      "            (        'bid_price_0',     'min'),\n",
      "            (        'bid_price_0',     'max'),\n",
      "            (        'bid_price_0',   'first'),\n",
      "            (        'bid_price_0',    'last'),\n",
      "            (     'bid_quantity_0',     'sum'),\n",
      "            (     'bid_quantity_0', 'nunique'),\n",
      "            ...\n",
      "            ( 'buy_trade_quantity',   'count'),\n",
      "            ( 'buy_trade_quantity',     'sum'),\n",
      "            ( 'buy_trade_quantity', 'nunique'),\n",
      "            (   'sell_trade_price',   'count'),\n",
      "            (   'sell_trade_price', 'nunique'),\n",
      "            ('sell_trade_quantity',   'count'),\n",
      "            ('sell_trade_quantity',     'sum'),\n",
      "            ('sell_trade_quantity', 'nunique'),\n",
      "            (              'count',   'count'),\n",
      "            (              'price',   'price')],\n",
      "           names=['timestamp_second', None], length=182)\n"
     ]
    }
   ],
   "source": [
    "model = Lasso(alpha=0.0001)\n",
    "result = test_model(model)"
   ],
   "metadata": {
    "collapsed": false
   }
  },
  {
   "cell_type": "code",
   "execution_count": 30,
   "outputs": [
    {
     "data": {
      "text/plain": "0.010230774956721759"
     },
     "execution_count": 30,
     "metadata": {},
     "output_type": "execute_result"
    }
   ],
   "source": [
    "result['mse_loss']"
   ],
   "metadata": {
    "collapsed": false
   }
  },
  {
   "cell_type": "code",
   "execution_count": 4,
   "outputs": [
    {
     "data": {
      "text/plain": "0.009929829079119334"
     },
     "execution_count": 4,
     "metadata": {},
     "output_type": "execute_result"
    }
   ],
   "source": [
    "model = Baseline()\n",
    "test_model(model)['mse_loss']"
   ],
   "metadata": {
    "collapsed": false
   }
  },
  {
   "cell_type": "code",
   "execution_count": null,
   "outputs": [],
   "source": [],
   "metadata": {
    "collapsed": false
   }
  }
 ],
 "metadata": {
  "kernelspec": {
   "display_name": "Python 3",
   "language": "python",
   "name": "python3"
  },
  "language_info": {
   "codemirror_mode": {
    "name": "ipython",
    "version": 2
   },
   "file_extension": ".py",
   "mimetype": "text/x-python",
   "name": "python",
   "nbconvert_exporter": "python",
   "pygments_lexer": "ipython2",
   "version": "2.7.6"
  }
 },
 "nbformat": 4,
 "nbformat_minor": 0
}
