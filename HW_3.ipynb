{
 "cells": [
  {
   "cell_type": "markdown",
   "source": [
    "## Load data and Imports"
   ],
   "metadata": {
    "collapsed": false
   }
  },
  {
   "cell_type": "code",
   "execution_count": 1,
   "outputs": [],
   "source": [
    "import pandas as pd\n",
    "import matplotlib.pyplot as plt"
   ],
   "metadata": {
    "collapsed": false
   }
  },
  {
   "cell_type": "code",
   "execution_count": 2,
   "outputs": [
    {
     "data": {
      "text/plain": "    timestamp_second bid_price_0                                        \\\n  Unnamed: 0_level_1     nunique       mean   median       std     min   \n0                  0           7  44.183379  44.1865  0.007340  44.171   \n1                  1           1  44.190000  44.1900  0.000000  44.190   \n2                  2           3  44.187467  44.1860  0.001767  44.186   \n3                  3           3  44.181038  44.1860  0.006993  44.173   \n4                  4           2  44.213095  44.2190  0.012474  44.188   \n\n                          bid_quantity_0  ... sell_trade_quantity              \\\n      max   first    last        nunique  ...                 sum mean median   \n0  44.190  44.171  44.190              5  ...                 0.0  NaN    NaN   \n1  44.190  44.190  44.190              1  ...                 0.0  NaN    NaN   \n2  44.190  44.190  44.186              3  ...                 0.0  NaN    NaN   \n3  44.188  44.186  44.188              2  ...                 0.0  NaN    NaN   \n4  44.219  44.188  44.219              2  ...                 0.0  NaN    NaN   \n\n                                        count                    y  \n  std min max first last Unnamed: 207_level_1 Unnamed: 208_level_1  \n0 NaN NaN NaN   NaN  NaN                   66            -0.065894  \n1 NaN NaN NaN   NaN  NaN                   13            -0.066870  \n2 NaN NaN NaN   NaN  NaN                   15            -0.064833  \n3 NaN NaN NaN   NaN  NaN                   52            -0.040764  \n4 NaN NaN NaN   NaN  NaN                   21            -0.063813  \n\n[5 rows x 209 columns]",
      "text/html": "<div>\n<style scoped>\n    .dataframe tbody tr th:only-of-type {\n        vertical-align: middle;\n    }\n\n    .dataframe tbody tr th {\n        vertical-align: top;\n    }\n\n    .dataframe thead tr th {\n        text-align: left;\n    }\n</style>\n<table border=\"1\" class=\"dataframe\">\n  <thead>\n    <tr>\n      <th></th>\n      <th>timestamp_second</th>\n      <th colspan=\"8\" halign=\"left\">bid_price_0</th>\n      <th>bid_quantity_0</th>\n      <th>...</th>\n      <th colspan=\"8\" halign=\"left\">sell_trade_quantity</th>\n      <th>count</th>\n      <th>y</th>\n    </tr>\n    <tr>\n      <th></th>\n      <th>Unnamed: 0_level_1</th>\n      <th>nunique</th>\n      <th>mean</th>\n      <th>median</th>\n      <th>std</th>\n      <th>min</th>\n      <th>max</th>\n      <th>first</th>\n      <th>last</th>\n      <th>nunique</th>\n      <th>...</th>\n      <th>sum</th>\n      <th>mean</th>\n      <th>median</th>\n      <th>std</th>\n      <th>min</th>\n      <th>max</th>\n      <th>first</th>\n      <th>last</th>\n      <th>Unnamed: 207_level_1</th>\n      <th>Unnamed: 208_level_1</th>\n    </tr>\n  </thead>\n  <tbody>\n    <tr>\n      <th>0</th>\n      <td>0</td>\n      <td>7</td>\n      <td>44.183379</td>\n      <td>44.1865</td>\n      <td>0.007340</td>\n      <td>44.171</td>\n      <td>44.190</td>\n      <td>44.171</td>\n      <td>44.190</td>\n      <td>5</td>\n      <td>...</td>\n      <td>0.0</td>\n      <td>NaN</td>\n      <td>NaN</td>\n      <td>NaN</td>\n      <td>NaN</td>\n      <td>NaN</td>\n      <td>NaN</td>\n      <td>NaN</td>\n      <td>66</td>\n      <td>-0.065894</td>\n    </tr>\n    <tr>\n      <th>1</th>\n      <td>1</td>\n      <td>1</td>\n      <td>44.190000</td>\n      <td>44.1900</td>\n      <td>0.000000</td>\n      <td>44.190</td>\n      <td>44.190</td>\n      <td>44.190</td>\n      <td>44.190</td>\n      <td>1</td>\n      <td>...</td>\n      <td>0.0</td>\n      <td>NaN</td>\n      <td>NaN</td>\n      <td>NaN</td>\n      <td>NaN</td>\n      <td>NaN</td>\n      <td>NaN</td>\n      <td>NaN</td>\n      <td>13</td>\n      <td>-0.066870</td>\n    </tr>\n    <tr>\n      <th>2</th>\n      <td>2</td>\n      <td>3</td>\n      <td>44.187467</td>\n      <td>44.1860</td>\n      <td>0.001767</td>\n      <td>44.186</td>\n      <td>44.190</td>\n      <td>44.190</td>\n      <td>44.186</td>\n      <td>3</td>\n      <td>...</td>\n      <td>0.0</td>\n      <td>NaN</td>\n      <td>NaN</td>\n      <td>NaN</td>\n      <td>NaN</td>\n      <td>NaN</td>\n      <td>NaN</td>\n      <td>NaN</td>\n      <td>15</td>\n      <td>-0.064833</td>\n    </tr>\n    <tr>\n      <th>3</th>\n      <td>3</td>\n      <td>3</td>\n      <td>44.181038</td>\n      <td>44.1860</td>\n      <td>0.006993</td>\n      <td>44.173</td>\n      <td>44.188</td>\n      <td>44.186</td>\n      <td>44.188</td>\n      <td>2</td>\n      <td>...</td>\n      <td>0.0</td>\n      <td>NaN</td>\n      <td>NaN</td>\n      <td>NaN</td>\n      <td>NaN</td>\n      <td>NaN</td>\n      <td>NaN</td>\n      <td>NaN</td>\n      <td>52</td>\n      <td>-0.040764</td>\n    </tr>\n    <tr>\n      <th>4</th>\n      <td>4</td>\n      <td>2</td>\n      <td>44.213095</td>\n      <td>44.2190</td>\n      <td>0.012474</td>\n      <td>44.188</td>\n      <td>44.219</td>\n      <td>44.188</td>\n      <td>44.219</td>\n      <td>2</td>\n      <td>...</td>\n      <td>0.0</td>\n      <td>NaN</td>\n      <td>NaN</td>\n      <td>NaN</td>\n      <td>NaN</td>\n      <td>NaN</td>\n      <td>NaN</td>\n      <td>NaN</td>\n      <td>21</td>\n      <td>-0.063813</td>\n    </tr>\n  </tbody>\n</table>\n<p>5 rows × 209 columns</p>\n</div>"
     },
     "execution_count": 2,
     "metadata": {},
     "output_type": "execute_result"
    }
   ],
   "source": [
    "df = pd.read_csv('half_dataset.zip', index_col=0, header=[0, 1])\n",
    "df.rename(\n",
    "    columns={\n",
    "        'Unnamed: 209_level_1': 'count',\n",
    "        'Unnamed: 210_level_1': 'price',\n",
    "    },\n",
    "    level = 1,\n",
    "    inplace = True\n",
    ")\n",
    "df.head()"
   ],
   "metadata": {
    "collapsed": false
   }
  },
  {
   "cell_type": "code",
   "execution_count": 21,
   "outputs": [],
   "source": [
    "df = df.drop(columns=df.columns[0])"
   ],
   "metadata": {
    "collapsed": false
   }
  },
  {
   "cell_type": "markdown",
   "source": [
    "## EDA"
   ],
   "metadata": {
    "collapsed": false
   }
  },
  {
   "cell_type": "code",
   "execution_count": 22,
   "outputs": [],
   "source": [
    "df = df.dropna(axis=1)"
   ],
   "metadata": {
    "collapsed": false
   }
  },
  {
   "cell_type": "code",
   "execution_count": 23,
   "outputs": [
    {
     "data": {
      "text/plain": "       bid_price_0                                                      \\\n           nunique       mean   median     min     max   first    last   \n0                7  44.183379  44.1865  44.171  44.190  44.171  44.190   \n1                1  44.190000  44.1900  44.190  44.190  44.190  44.190   \n2                3  44.187467  44.1860  44.186  44.190  44.190  44.186   \n3                3  44.181038  44.1860  44.173  44.188  44.186  44.188   \n4                2  44.213095  44.2190  44.188  44.219  44.188  44.219   \n...            ...        ...      ...     ...     ...     ...     ...   \n805991           3  40.635062  40.6340  40.626  40.641  40.641  40.634   \n805992           2  40.634050  40.6340  40.634  40.635  40.634  40.635   \n805993           3  40.630763  40.6340  40.606  40.634  40.634  40.619   \n805994           1  40.619000  40.6190  40.619  40.619  40.619  40.619   \n805995           5  40.625260  40.6190  40.619  40.644  40.619  40.644   \n\n       bid_quantity_0                       ... buy_trade_price          \\\n              nunique      sum        mean  ...           count nunique   \n0                   5  25880.7  392.131818  ...               1       1   \n1                   1     76.7    5.900000  ...               0       0   \n2                   3    597.5   39.833333  ...               0       0   \n3                   2   2062.8   39.669231  ...               1       1   \n4                   2   6350.8  302.419048  ...               0       0   \n...               ...      ...         ...  ...             ...     ...   \n805991              3   5011.3   78.301563  ...               0       0   \n805992              2   1147.7   57.385000  ...               0       0   \n805993              2   3441.1   58.323729  ...               0       0   \n805994              1   4221.0   60.300000  ...               0       0   \n805995              5  11480.5  114.805000  ...               0       0   \n\n       buy_trade_quantity       sell_trade_price         sell_trade_quantity  \\\n                  nunique   sum            count nunique             nunique   \n0                       1  30.5                0       0                   0   \n1                       0   0.0                0       0                   0   \n2                       0   0.0                0       0                   0   \n3                       1  30.9                0       0                   0   \n4                       0   0.0                0       0                   0   \n...                   ...   ...              ...     ...                 ...   \n805991                  0   0.0                0       0                   0   \n805992                  0   0.0                0       0                   0   \n805993                  0   0.0                0       0                   0   \n805994                  0   0.0                0       0                   0   \n805995                  0   0.0                0       0                   0   \n\n                           count                    y  \n        sum Unnamed: 207_level_1 Unnamed: 208_level_1  \n0       0.0                   66            -0.065894  \n1       0.0                   13            -0.066870  \n2       0.0                   15            -0.064833  \n3       0.0                   52            -0.040764  \n4       0.0                   21            -0.063813  \n...     ...                  ...                  ...  \n805991  0.0                   64            -0.044820  \n805992  0.0                   20            -0.039675  \n805993  0.0                   59            -0.037508  \n805994  0.0                   70             0.001615  \n805995  0.0                  100             0.010475  \n\n[805996 rows x 160 columns]",
      "text/html": "<div>\n<style scoped>\n    .dataframe tbody tr th:only-of-type {\n        vertical-align: middle;\n    }\n\n    .dataframe tbody tr th {\n        vertical-align: top;\n    }\n\n    .dataframe thead tr th {\n        text-align: left;\n    }\n</style>\n<table border=\"1\" class=\"dataframe\">\n  <thead>\n    <tr>\n      <th></th>\n      <th colspan=\"7\" halign=\"left\">bid_price_0</th>\n      <th colspan=\"3\" halign=\"left\">bid_quantity_0</th>\n      <th>...</th>\n      <th colspan=\"2\" halign=\"left\">buy_trade_price</th>\n      <th colspan=\"2\" halign=\"left\">buy_trade_quantity</th>\n      <th colspan=\"2\" halign=\"left\">sell_trade_price</th>\n      <th colspan=\"2\" halign=\"left\">sell_trade_quantity</th>\n      <th>count</th>\n      <th>y</th>\n    </tr>\n    <tr>\n      <th></th>\n      <th>nunique</th>\n      <th>mean</th>\n      <th>median</th>\n      <th>min</th>\n      <th>max</th>\n      <th>first</th>\n      <th>last</th>\n      <th>nunique</th>\n      <th>sum</th>\n      <th>mean</th>\n      <th>...</th>\n      <th>count</th>\n      <th>nunique</th>\n      <th>nunique</th>\n      <th>sum</th>\n      <th>count</th>\n      <th>nunique</th>\n      <th>nunique</th>\n      <th>sum</th>\n      <th>Unnamed: 207_level_1</th>\n      <th>Unnamed: 208_level_1</th>\n    </tr>\n  </thead>\n  <tbody>\n    <tr>\n      <th>0</th>\n      <td>7</td>\n      <td>44.183379</td>\n      <td>44.1865</td>\n      <td>44.171</td>\n      <td>44.190</td>\n      <td>44.171</td>\n      <td>44.190</td>\n      <td>5</td>\n      <td>25880.7</td>\n      <td>392.131818</td>\n      <td>...</td>\n      <td>1</td>\n      <td>1</td>\n      <td>1</td>\n      <td>30.5</td>\n      <td>0</td>\n      <td>0</td>\n      <td>0</td>\n      <td>0.0</td>\n      <td>66</td>\n      <td>-0.065894</td>\n    </tr>\n    <tr>\n      <th>1</th>\n      <td>1</td>\n      <td>44.190000</td>\n      <td>44.1900</td>\n      <td>44.190</td>\n      <td>44.190</td>\n      <td>44.190</td>\n      <td>44.190</td>\n      <td>1</td>\n      <td>76.7</td>\n      <td>5.900000</td>\n      <td>...</td>\n      <td>0</td>\n      <td>0</td>\n      <td>0</td>\n      <td>0.0</td>\n      <td>0</td>\n      <td>0</td>\n      <td>0</td>\n      <td>0.0</td>\n      <td>13</td>\n      <td>-0.066870</td>\n    </tr>\n    <tr>\n      <th>2</th>\n      <td>3</td>\n      <td>44.187467</td>\n      <td>44.1860</td>\n      <td>44.186</td>\n      <td>44.190</td>\n      <td>44.190</td>\n      <td>44.186</td>\n      <td>3</td>\n      <td>597.5</td>\n      <td>39.833333</td>\n      <td>...</td>\n      <td>0</td>\n      <td>0</td>\n      <td>0</td>\n      <td>0.0</td>\n      <td>0</td>\n      <td>0</td>\n      <td>0</td>\n      <td>0.0</td>\n      <td>15</td>\n      <td>-0.064833</td>\n    </tr>\n    <tr>\n      <th>3</th>\n      <td>3</td>\n      <td>44.181038</td>\n      <td>44.1860</td>\n      <td>44.173</td>\n      <td>44.188</td>\n      <td>44.186</td>\n      <td>44.188</td>\n      <td>2</td>\n      <td>2062.8</td>\n      <td>39.669231</td>\n      <td>...</td>\n      <td>1</td>\n      <td>1</td>\n      <td>1</td>\n      <td>30.9</td>\n      <td>0</td>\n      <td>0</td>\n      <td>0</td>\n      <td>0.0</td>\n      <td>52</td>\n      <td>-0.040764</td>\n    </tr>\n    <tr>\n      <th>4</th>\n      <td>2</td>\n      <td>44.213095</td>\n      <td>44.2190</td>\n      <td>44.188</td>\n      <td>44.219</td>\n      <td>44.188</td>\n      <td>44.219</td>\n      <td>2</td>\n      <td>6350.8</td>\n      <td>302.419048</td>\n      <td>...</td>\n      <td>0</td>\n      <td>0</td>\n      <td>0</td>\n      <td>0.0</td>\n      <td>0</td>\n      <td>0</td>\n      <td>0</td>\n      <td>0.0</td>\n      <td>21</td>\n      <td>-0.063813</td>\n    </tr>\n    <tr>\n      <th>...</th>\n      <td>...</td>\n      <td>...</td>\n      <td>...</td>\n      <td>...</td>\n      <td>...</td>\n      <td>...</td>\n      <td>...</td>\n      <td>...</td>\n      <td>...</td>\n      <td>...</td>\n      <td>...</td>\n      <td>...</td>\n      <td>...</td>\n      <td>...</td>\n      <td>...</td>\n      <td>...</td>\n      <td>...</td>\n      <td>...</td>\n      <td>...</td>\n      <td>...</td>\n      <td>...</td>\n    </tr>\n    <tr>\n      <th>805991</th>\n      <td>3</td>\n      <td>40.635062</td>\n      <td>40.6340</td>\n      <td>40.626</td>\n      <td>40.641</td>\n      <td>40.641</td>\n      <td>40.634</td>\n      <td>3</td>\n      <td>5011.3</td>\n      <td>78.301563</td>\n      <td>...</td>\n      <td>0</td>\n      <td>0</td>\n      <td>0</td>\n      <td>0.0</td>\n      <td>0</td>\n      <td>0</td>\n      <td>0</td>\n      <td>0.0</td>\n      <td>64</td>\n      <td>-0.044820</td>\n    </tr>\n    <tr>\n      <th>805992</th>\n      <td>2</td>\n      <td>40.634050</td>\n      <td>40.6340</td>\n      <td>40.634</td>\n      <td>40.635</td>\n      <td>40.634</td>\n      <td>40.635</td>\n      <td>2</td>\n      <td>1147.7</td>\n      <td>57.385000</td>\n      <td>...</td>\n      <td>0</td>\n      <td>0</td>\n      <td>0</td>\n      <td>0.0</td>\n      <td>0</td>\n      <td>0</td>\n      <td>0</td>\n      <td>0.0</td>\n      <td>20</td>\n      <td>-0.039675</td>\n    </tr>\n    <tr>\n      <th>805993</th>\n      <td>3</td>\n      <td>40.630763</td>\n      <td>40.6340</td>\n      <td>40.606</td>\n      <td>40.634</td>\n      <td>40.634</td>\n      <td>40.619</td>\n      <td>2</td>\n      <td>3441.1</td>\n      <td>58.323729</td>\n      <td>...</td>\n      <td>0</td>\n      <td>0</td>\n      <td>0</td>\n      <td>0.0</td>\n      <td>0</td>\n      <td>0</td>\n      <td>0</td>\n      <td>0.0</td>\n      <td>59</td>\n      <td>-0.037508</td>\n    </tr>\n    <tr>\n      <th>805994</th>\n      <td>1</td>\n      <td>40.619000</td>\n      <td>40.6190</td>\n      <td>40.619</td>\n      <td>40.619</td>\n      <td>40.619</td>\n      <td>40.619</td>\n      <td>1</td>\n      <td>4221.0</td>\n      <td>60.300000</td>\n      <td>...</td>\n      <td>0</td>\n      <td>0</td>\n      <td>0</td>\n      <td>0.0</td>\n      <td>0</td>\n      <td>0</td>\n      <td>0</td>\n      <td>0.0</td>\n      <td>70</td>\n      <td>0.001615</td>\n    </tr>\n    <tr>\n      <th>805995</th>\n      <td>5</td>\n      <td>40.625260</td>\n      <td>40.6190</td>\n      <td>40.619</td>\n      <td>40.644</td>\n      <td>40.619</td>\n      <td>40.644</td>\n      <td>5</td>\n      <td>11480.5</td>\n      <td>114.805000</td>\n      <td>...</td>\n      <td>0</td>\n      <td>0</td>\n      <td>0</td>\n      <td>0.0</td>\n      <td>0</td>\n      <td>0</td>\n      <td>0</td>\n      <td>0.0</td>\n      <td>100</td>\n      <td>0.010475</td>\n    </tr>\n  </tbody>\n</table>\n<p>805996 rows × 160 columns</p>\n</div>"
     },
     "execution_count": 23,
     "metadata": {},
     "output_type": "execute_result"
    }
   ],
   "source": [
    "df"
   ],
   "metadata": {
    "collapsed": false
   }
  },
  {
   "cell_type": "markdown",
   "source": [
    "## Support functions"
   ],
   "metadata": {
    "collapsed": false
   }
  },
  {
   "cell_type": "markdown",
   "source": [
    "## ML time"
   ],
   "metadata": {
    "collapsed": false
   }
  },
  {
   "cell_type": "code",
   "execution_count": 31,
   "outputs": [
    {
     "name": "stderr",
     "output_type": "stream",
     "text": [
      "C:\\Users\\artem\\AppData\\Local\\Temp\\ipykernel_17528\\1537416915.py:1: SettingWithCopyWarning: \n",
      "A value is trying to be set on a copy of a slice from a DataFrame.\n",
      "Try using .loc[row_indexer,col_indexer] = value instead\n",
      "\n",
      "See the caveats in the documentation: https://pandas.pydata.org/pandas-docs/stable/user_guide/indexing.html#returning-a-view-versus-a-copy\n",
      "  df['price'] = (df['bid_price_0']['mean'] + df['ask_price_0']['mean']) / 2\n",
      "C:\\Users\\artem\\AppData\\Local\\Temp\\ipykernel_17528\\1537416915.py:2: SettingWithCopyWarning: \n",
      "A value is trying to be set on a copy of a slice from a DataFrame.\n",
      "Try using .loc[row_indexer,col_indexer] = value instead\n",
      "\n",
      "See the caveats in the documentation: https://pandas.pydata.org/pandas-docs/stable/user_guide/indexing.html#returning-a-view-versus-a-copy\n",
      "  df['target'] = df['price'].shift(-60) - df['price']\n"
     ]
    }
   ],
   "source": [
    "df['price'] = (df['bid_price_0']['mean'] + df['ask_price_0']['mean']) / 2\n",
    "df['target'] = df['price'].shift(-60) - df['price']\n",
    "df = df.dropna(axis=0)"
   ],
   "metadata": {
    "collapsed": false
   }
  },
  {
   "cell_type": "code",
   "execution_count": 32,
   "outputs": [],
   "source": [
    "from sklearn.linear_model import LinearRegression\n",
    "from sklearn.metrics import mean_squared_error as mse"
   ],
   "metadata": {
    "collapsed": false
   }
  },
  {
   "cell_type": "code",
   "execution_count": 33,
   "outputs": [
    {
     "name": "stderr",
     "output_type": "stream",
     "text": [
      "C:\\Users\\artem\\AppData\\Local\\Temp\\ipykernel_17528\\516516637.py:1: PerformanceWarning: dropping on a non-lexsorted multi-index without a level parameter may impact performance.\n",
      "  X = df.drop(columns=['target'])\n"
     ]
    }
   ],
   "source": [
    "X = df.drop(columns=['target'])\n",
    "y = df['target']"
   ],
   "metadata": {
    "collapsed": false
   }
  },
  {
   "cell_type": "code",
   "execution_count": 34,
   "outputs": [
    {
     "data": {
      "text/plain": "LinearRegression()",
      "text/html": "<style>#sk-container-id-2 {color: black;background-color: white;}#sk-container-id-2 pre{padding: 0;}#sk-container-id-2 div.sk-toggleable {background-color: white;}#sk-container-id-2 label.sk-toggleable__label {cursor: pointer;display: block;width: 100%;margin-bottom: 0;padding: 0.3em;box-sizing: border-box;text-align: center;}#sk-container-id-2 label.sk-toggleable__label-arrow:before {content: \"▸\";float: left;margin-right: 0.25em;color: #696969;}#sk-container-id-2 label.sk-toggleable__label-arrow:hover:before {color: black;}#sk-container-id-2 div.sk-estimator:hover label.sk-toggleable__label-arrow:before {color: black;}#sk-container-id-2 div.sk-toggleable__content {max-height: 0;max-width: 0;overflow: hidden;text-align: left;background-color: #f0f8ff;}#sk-container-id-2 div.sk-toggleable__content pre {margin: 0.2em;color: black;border-radius: 0.25em;background-color: #f0f8ff;}#sk-container-id-2 input.sk-toggleable__control:checked~div.sk-toggleable__content {max-height: 200px;max-width: 100%;overflow: auto;}#sk-container-id-2 input.sk-toggleable__control:checked~label.sk-toggleable__label-arrow:before {content: \"▾\";}#sk-container-id-2 div.sk-estimator input.sk-toggleable__control:checked~label.sk-toggleable__label {background-color: #d4ebff;}#sk-container-id-2 div.sk-label input.sk-toggleable__control:checked~label.sk-toggleable__label {background-color: #d4ebff;}#sk-container-id-2 input.sk-hidden--visually {border: 0;clip: rect(1px 1px 1px 1px);clip: rect(1px, 1px, 1px, 1px);height: 1px;margin: -1px;overflow: hidden;padding: 0;position: absolute;width: 1px;}#sk-container-id-2 div.sk-estimator {font-family: monospace;background-color: #f0f8ff;border: 1px dotted black;border-radius: 0.25em;box-sizing: border-box;margin-bottom: 0.5em;}#sk-container-id-2 div.sk-estimator:hover {background-color: #d4ebff;}#sk-container-id-2 div.sk-parallel-item::after {content: \"\";width: 100%;border-bottom: 1px solid gray;flex-grow: 1;}#sk-container-id-2 div.sk-label:hover label.sk-toggleable__label {background-color: #d4ebff;}#sk-container-id-2 div.sk-serial::before {content: \"\";position: absolute;border-left: 1px solid gray;box-sizing: border-box;top: 0;bottom: 0;left: 50%;z-index: 0;}#sk-container-id-2 div.sk-serial {display: flex;flex-direction: column;align-items: center;background-color: white;padding-right: 0.2em;padding-left: 0.2em;position: relative;}#sk-container-id-2 div.sk-item {position: relative;z-index: 1;}#sk-container-id-2 div.sk-parallel {display: flex;align-items: stretch;justify-content: center;background-color: white;position: relative;}#sk-container-id-2 div.sk-item::before, #sk-container-id-2 div.sk-parallel-item::before {content: \"\";position: absolute;border-left: 1px solid gray;box-sizing: border-box;top: 0;bottom: 0;left: 50%;z-index: -1;}#sk-container-id-2 div.sk-parallel-item {display: flex;flex-direction: column;z-index: 1;position: relative;background-color: white;}#sk-container-id-2 div.sk-parallel-item:first-child::after {align-self: flex-end;width: 50%;}#sk-container-id-2 div.sk-parallel-item:last-child::after {align-self: flex-start;width: 50%;}#sk-container-id-2 div.sk-parallel-item:only-child::after {width: 0;}#sk-container-id-2 div.sk-dashed-wrapped {border: 1px dashed gray;margin: 0 0.4em 0.5em 0.4em;box-sizing: border-box;padding-bottom: 0.4em;background-color: white;}#sk-container-id-2 div.sk-label label {font-family: monospace;font-weight: bold;display: inline-block;line-height: 1.2em;}#sk-container-id-2 div.sk-label-container {text-align: center;}#sk-container-id-2 div.sk-container {/* jupyter's `normalize.less` sets `[hidden] { display: none; }` but bootstrap.min.css set `[hidden] { display: none !important; }` so we also need the `!important` here to be able to override the default hidden behavior on the sphinx rendered scikit-learn.org. See: https://github.com/scikit-learn/scikit-learn/issues/21755 */display: inline-block !important;position: relative;}#sk-container-id-2 div.sk-text-repr-fallback {display: none;}</style><div id=\"sk-container-id-2\" class=\"sk-top-container\"><div class=\"sk-text-repr-fallback\"><pre>LinearRegression()</pre><b>In a Jupyter environment, please rerun this cell to show the HTML representation or trust the notebook. <br />On GitHub, the HTML representation is unable to render, please try loading this page with nbviewer.org.</b></div><div class=\"sk-container\" hidden><div class=\"sk-item\"><div class=\"sk-estimator sk-toggleable\"><input class=\"sk-toggleable__control sk-hidden--visually\" id=\"sk-estimator-id-2\" type=\"checkbox\" checked><label for=\"sk-estimator-id-2\" class=\"sk-toggleable__label sk-toggleable__label-arrow\">LinearRegression</label><div class=\"sk-toggleable__content\"><pre>LinearRegression()</pre></div></div></div></div></div>"
     },
     "execution_count": 34,
     "metadata": {},
     "output_type": "execute_result"
    }
   ],
   "source": [
    "model = LinearRegression()\n",
    "model.fit(X, y)"
   ],
   "metadata": {
    "collapsed": false
   }
  },
  {
   "cell_type": "code",
   "execution_count": 35,
   "outputs": [
    {
     "data": {
      "text/plain": "0.00018188128378572986"
     },
     "execution_count": 35,
     "metadata": {},
     "output_type": "execute_result"
    }
   ],
   "source": [
    "mse(model.predict(X), y)"
   ],
   "metadata": {
    "collapsed": false
   }
  },
  {
   "cell_type": "code",
   "execution_count": null,
   "outputs": [],
   "source": [],
   "metadata": {
    "collapsed": false
   }
  }
 ],
 "metadata": {
  "kernelspec": {
   "display_name": "Python 3",
   "language": "python",
   "name": "python3"
  },
  "language_info": {
   "codemirror_mode": {
    "name": "ipython",
    "version": 2
   },
   "file_extension": ".py",
   "mimetype": "text/x-python",
   "name": "python",
   "nbconvert_exporter": "python",
   "pygments_lexer": "ipython2",
   "version": "2.7.6"
  }
 },
 "nbformat": 4,
 "nbformat_minor": 0
}
