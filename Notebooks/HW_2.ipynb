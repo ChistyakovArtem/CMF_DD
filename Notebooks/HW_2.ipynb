{
 "cells": [
  {
   "cell_type": "markdown",
   "source": [
    "## Load and imports"
   ],
   "metadata": {
    "collapsed": false
   }
  },
  {
   "cell_type": "code",
   "execution_count": 4,
   "outputs": [],
   "source": [
    "import pandas as pd\n",
    "import numpy as np\n",
    "import matplotlib.pyplot as plt"
   ],
   "metadata": {
    "collapsed": false
   }
  },
  {
   "cell_type": "code",
   "execution_count": 3,
   "outputs": [],
   "source": [
    "df = pd.read_csv('half_dataset.zip', header=[0, 1])"
   ],
   "metadata": {
    "collapsed": false
   }
  },
  {
   "cell_type": "markdown",
   "source": [
    "## Main task (2 models)"
   ],
   "metadata": {
    "collapsed": false
   }
  },
  {
   "cell_type": "markdown",
   "source": [
    "### Cross validation functions"
   ],
   "metadata": {
    "collapsed": false
   }
  },
  {
   "cell_type": "code",
   "execution_count": 5,
   "outputs": [],
   "source": [
    "def mae(y, predict):\n",
    "    return np.mean(np.abs(y - predict), axis=None)"
   ],
   "metadata": {
    "collapsed": false
   }
  },
  {
   "cell_type": "markdown",
   "source": [
    "### Naive"
   ],
   "metadata": {
    "collapsed": false
   }
  },
  {
   "cell_type": "markdown",
   "source": [
    "Для начала поймем как берется y"
   ],
   "metadata": {
    "collapsed": false
   }
  },
  {
   "cell_type": "code",
   "execution_count": 13,
   "outputs": [],
   "source": [
    "df['price'] = (df['bid_price_0']['mean'] + df['ask_price_0']['mean']) / 2\n",
    "df['try_y'] = df['price'].shift(-60) - df['price']"
   ],
   "metadata": {
    "collapsed": false
   }
  },
  {
   "cell_type": "code",
   "execution_count": 14,
   "outputs": [
    {
     "data": {
      "text/plain": "       Unnamed: 0_level_0   timestamp_second bid_price_0                      \\\n       Unnamed: 0_level_1 Unnamed: 0_level_1     nunique       mean   median   \n0                       0                  0           7  44.183379  44.1865   \n1                       1                  1           1  44.190000  44.1900   \n2                       2                  2           3  44.187467  44.1860   \n3                       3                  3           3  44.181038  44.1860   \n4                       4                  4           2  44.213095  44.2190   \n...                   ...                ...         ...        ...      ...   \n805991             805991             805991           3  40.635062  40.6340   \n805992             805992             805992           2  40.634050  40.6340   \n805993             805993             805993           3  40.630763  40.6340   \n805994             805994             805994           1  40.619000  40.6190   \n805995             805995             805995           5  40.625260  40.6190   \n\n                                                  ... sell_trade_quantity      \\\n             std     min     max   first    last  ...              median std   \n0       0.007340  44.171  44.190  44.171  44.190  ...                 NaN NaN   \n1       0.000000  44.190  44.190  44.190  44.190  ...                 NaN NaN   \n2       0.001767  44.186  44.190  44.190  44.186  ...                 NaN NaN   \n3       0.006993  44.173  44.188  44.186  44.188  ...                 NaN NaN   \n4       0.012474  44.188  44.219  44.188  44.219  ...                 NaN NaN   \n...          ...     ...     ...     ...     ...  ...                 ...  ..   \n805991  0.004853  40.626  40.641  40.641  40.634  ...                 NaN NaN   \n805992  0.000224  40.634  40.635  40.634  40.635  ...                 NaN NaN   \n805993  0.007162  40.606  40.634  40.634  40.619  ...                 NaN NaN   \n805994  0.000000  40.619  40.619  40.619  40.619  ...                 NaN NaN   \n805995  0.008114  40.619  40.644  40.619  40.644  ...                 NaN NaN   \n\n                                         count                    y     try_y  \\\n       min max first last Unnamed: 207_level_1 Unnamed: 208_level_1             \n0      NaN NaN   NaN  NaN                   66            -0.065894 -0.065894   \n1      NaN NaN   NaN  NaN                   13            -0.066870 -0.066870   \n2      NaN NaN   NaN  NaN                   15            -0.064833 -0.064833   \n3      NaN NaN   NaN  NaN                   52            -0.040764 -0.040764   \n4      NaN NaN   NaN  NaN                   21            -0.063813 -0.063813   \n...     ..  ..   ...  ...                  ...                  ...       ...   \n805991 NaN NaN   NaN  NaN                   64            -0.044820       NaN   \n805992 NaN NaN   NaN  NaN                   20            -0.039675       NaN   \n805993 NaN NaN   NaN  NaN                   59            -0.037508       NaN   \n805994 NaN NaN   NaN  NaN                   70             0.001615       NaN   \n805995 NaN NaN   NaN  NaN                  100             0.010475       NaN   \n\n            price  \n                   \n0       44.217394  \n1       44.219500  \n2       44.218233  \n3       44.205875  \n4       44.229452  \n...           ...  \n805991  40.666320  \n805992  40.661025  \n805993  40.657390  \n805994  40.642871  \n805995  40.655025  \n\n[805996 rows x 212 columns]",
      "text/html": "<div>\n<style scoped>\n    .dataframe tbody tr th:only-of-type {\n        vertical-align: middle;\n    }\n\n    .dataframe tbody tr th {\n        vertical-align: top;\n    }\n\n    .dataframe thead tr th {\n        text-align: left;\n    }\n</style>\n<table border=\"1\" class=\"dataframe\">\n  <thead>\n    <tr>\n      <th></th>\n      <th>Unnamed: 0_level_0</th>\n      <th>timestamp_second</th>\n      <th colspan=\"8\" halign=\"left\">bid_price_0</th>\n      <th>...</th>\n      <th colspan=\"6\" halign=\"left\">sell_trade_quantity</th>\n      <th>count</th>\n      <th>y</th>\n      <th>try_y</th>\n      <th>price</th>\n    </tr>\n    <tr>\n      <th></th>\n      <th>Unnamed: 0_level_1</th>\n      <th>Unnamed: 0_level_1</th>\n      <th>nunique</th>\n      <th>mean</th>\n      <th>median</th>\n      <th>std</th>\n      <th>min</th>\n      <th>max</th>\n      <th>first</th>\n      <th>last</th>\n      <th>...</th>\n      <th>median</th>\n      <th>std</th>\n      <th>min</th>\n      <th>max</th>\n      <th>first</th>\n      <th>last</th>\n      <th>Unnamed: 207_level_1</th>\n      <th>Unnamed: 208_level_1</th>\n      <th></th>\n      <th></th>\n    </tr>\n  </thead>\n  <tbody>\n    <tr>\n      <th>0</th>\n      <td>0</td>\n      <td>0</td>\n      <td>7</td>\n      <td>44.183379</td>\n      <td>44.1865</td>\n      <td>0.007340</td>\n      <td>44.171</td>\n      <td>44.190</td>\n      <td>44.171</td>\n      <td>44.190</td>\n      <td>...</td>\n      <td>NaN</td>\n      <td>NaN</td>\n      <td>NaN</td>\n      <td>NaN</td>\n      <td>NaN</td>\n      <td>NaN</td>\n      <td>66</td>\n      <td>-0.065894</td>\n      <td>-0.065894</td>\n      <td>44.217394</td>\n    </tr>\n    <tr>\n      <th>1</th>\n      <td>1</td>\n      <td>1</td>\n      <td>1</td>\n      <td>44.190000</td>\n      <td>44.1900</td>\n      <td>0.000000</td>\n      <td>44.190</td>\n      <td>44.190</td>\n      <td>44.190</td>\n      <td>44.190</td>\n      <td>...</td>\n      <td>NaN</td>\n      <td>NaN</td>\n      <td>NaN</td>\n      <td>NaN</td>\n      <td>NaN</td>\n      <td>NaN</td>\n      <td>13</td>\n      <td>-0.066870</td>\n      <td>-0.066870</td>\n      <td>44.219500</td>\n    </tr>\n    <tr>\n      <th>2</th>\n      <td>2</td>\n      <td>2</td>\n      <td>3</td>\n      <td>44.187467</td>\n      <td>44.1860</td>\n      <td>0.001767</td>\n      <td>44.186</td>\n      <td>44.190</td>\n      <td>44.190</td>\n      <td>44.186</td>\n      <td>...</td>\n      <td>NaN</td>\n      <td>NaN</td>\n      <td>NaN</td>\n      <td>NaN</td>\n      <td>NaN</td>\n      <td>NaN</td>\n      <td>15</td>\n      <td>-0.064833</td>\n      <td>-0.064833</td>\n      <td>44.218233</td>\n    </tr>\n    <tr>\n      <th>3</th>\n      <td>3</td>\n      <td>3</td>\n      <td>3</td>\n      <td>44.181038</td>\n      <td>44.1860</td>\n      <td>0.006993</td>\n      <td>44.173</td>\n      <td>44.188</td>\n      <td>44.186</td>\n      <td>44.188</td>\n      <td>...</td>\n      <td>NaN</td>\n      <td>NaN</td>\n      <td>NaN</td>\n      <td>NaN</td>\n      <td>NaN</td>\n      <td>NaN</td>\n      <td>52</td>\n      <td>-0.040764</td>\n      <td>-0.040764</td>\n      <td>44.205875</td>\n    </tr>\n    <tr>\n      <th>4</th>\n      <td>4</td>\n      <td>4</td>\n      <td>2</td>\n      <td>44.213095</td>\n      <td>44.2190</td>\n      <td>0.012474</td>\n      <td>44.188</td>\n      <td>44.219</td>\n      <td>44.188</td>\n      <td>44.219</td>\n      <td>...</td>\n      <td>NaN</td>\n      <td>NaN</td>\n      <td>NaN</td>\n      <td>NaN</td>\n      <td>NaN</td>\n      <td>NaN</td>\n      <td>21</td>\n      <td>-0.063813</td>\n      <td>-0.063813</td>\n      <td>44.229452</td>\n    </tr>\n    <tr>\n      <th>...</th>\n      <td>...</td>\n      <td>...</td>\n      <td>...</td>\n      <td>...</td>\n      <td>...</td>\n      <td>...</td>\n      <td>...</td>\n      <td>...</td>\n      <td>...</td>\n      <td>...</td>\n      <td>...</td>\n      <td>...</td>\n      <td>...</td>\n      <td>...</td>\n      <td>...</td>\n      <td>...</td>\n      <td>...</td>\n      <td>...</td>\n      <td>...</td>\n      <td>...</td>\n      <td>...</td>\n    </tr>\n    <tr>\n      <th>805991</th>\n      <td>805991</td>\n      <td>805991</td>\n      <td>3</td>\n      <td>40.635062</td>\n      <td>40.6340</td>\n      <td>0.004853</td>\n      <td>40.626</td>\n      <td>40.641</td>\n      <td>40.641</td>\n      <td>40.634</td>\n      <td>...</td>\n      <td>NaN</td>\n      <td>NaN</td>\n      <td>NaN</td>\n      <td>NaN</td>\n      <td>NaN</td>\n      <td>NaN</td>\n      <td>64</td>\n      <td>-0.044820</td>\n      <td>NaN</td>\n      <td>40.666320</td>\n    </tr>\n    <tr>\n      <th>805992</th>\n      <td>805992</td>\n      <td>805992</td>\n      <td>2</td>\n      <td>40.634050</td>\n      <td>40.6340</td>\n      <td>0.000224</td>\n      <td>40.634</td>\n      <td>40.635</td>\n      <td>40.634</td>\n      <td>40.635</td>\n      <td>...</td>\n      <td>NaN</td>\n      <td>NaN</td>\n      <td>NaN</td>\n      <td>NaN</td>\n      <td>NaN</td>\n      <td>NaN</td>\n      <td>20</td>\n      <td>-0.039675</td>\n      <td>NaN</td>\n      <td>40.661025</td>\n    </tr>\n    <tr>\n      <th>805993</th>\n      <td>805993</td>\n      <td>805993</td>\n      <td>3</td>\n      <td>40.630763</td>\n      <td>40.6340</td>\n      <td>0.007162</td>\n      <td>40.606</td>\n      <td>40.634</td>\n      <td>40.634</td>\n      <td>40.619</td>\n      <td>...</td>\n      <td>NaN</td>\n      <td>NaN</td>\n      <td>NaN</td>\n      <td>NaN</td>\n      <td>NaN</td>\n      <td>NaN</td>\n      <td>59</td>\n      <td>-0.037508</td>\n      <td>NaN</td>\n      <td>40.657390</td>\n    </tr>\n    <tr>\n      <th>805994</th>\n      <td>805994</td>\n      <td>805994</td>\n      <td>1</td>\n      <td>40.619000</td>\n      <td>40.6190</td>\n      <td>0.000000</td>\n      <td>40.619</td>\n      <td>40.619</td>\n      <td>40.619</td>\n      <td>40.619</td>\n      <td>...</td>\n      <td>NaN</td>\n      <td>NaN</td>\n      <td>NaN</td>\n      <td>NaN</td>\n      <td>NaN</td>\n      <td>NaN</td>\n      <td>70</td>\n      <td>0.001615</td>\n      <td>NaN</td>\n      <td>40.642871</td>\n    </tr>\n    <tr>\n      <th>805995</th>\n      <td>805995</td>\n      <td>805995</td>\n      <td>5</td>\n      <td>40.625260</td>\n      <td>40.6190</td>\n      <td>0.008114</td>\n      <td>40.619</td>\n      <td>40.644</td>\n      <td>40.619</td>\n      <td>40.644</td>\n      <td>...</td>\n      <td>NaN</td>\n      <td>NaN</td>\n      <td>NaN</td>\n      <td>NaN</td>\n      <td>NaN</td>\n      <td>NaN</td>\n      <td>100</td>\n      <td>0.010475</td>\n      <td>NaN</td>\n      <td>40.655025</td>\n    </tr>\n  </tbody>\n</table>\n<p>805996 rows × 212 columns</p>\n</div>"
     },
     "execution_count": 14,
     "metadata": {},
     "output_type": "execute_result"
    }
   ],
   "source": [
    "df"
   ],
   "metadata": {
    "collapsed": false
   }
  },
  {
   "cell_type": "markdown",
   "source": [
    "Сегодня будет как вчера\n",
    "Иными словами мы ожидаем, что цена через 60 секунд будет такой же, как сейчас (y = 0)."
   ],
   "metadata": {
    "collapsed": false
   }
  },
  {
   "cell_type": "code",
   "execution_count": 15,
   "outputs": [
    {
     "name": "stderr",
     "output_type": "stream",
     "text": [
      "C:\\Users\\artem\\anaconda3\\envs\\workspace\\lib\\site-packages\\numpy\\core\\fromnumeric.py:3430: FutureWarning: In a future version, DataFrame.mean(axis=None) will return a scalar mean over the entire DataFrame. To retain the old behavior, use 'frame.mean(axis=0)' or just 'frame.mean()'\n",
      "  return mean(axis=axis, dtype=dtype, out=out, **kwargs)\n"
     ]
    },
    {
     "data": {
      "text/plain": "Unnamed: 208_level_1    0.05145\ndtype: float64"
     },
     "execution_count": 15,
     "metadata": {},
     "output_type": "execute_result"
    }
   ],
   "source": [
    "mae(0, df['y'])"
   ],
   "metadata": {
    "collapsed": false
   }
  },
  {
   "cell_type": "markdown",
   "source": [
    "### Mean"
   ],
   "metadata": {
    "collapsed": false
   }
  },
  {
   "cell_type": "markdown",
   "source": [
    "Цена через 60 тиков равна средней цене за прошедшие x тиков."
   ],
   "metadata": {
    "collapsed": false
   }
  },
  {
   "cell_type": "code",
   "execution_count": 20,
   "outputs": [],
   "source": [
    "x = 60\n",
    "df['rolling_price'] = df['price'].rolling(x).mean()"
   ],
   "metadata": {
    "collapsed": false
   }
  },
  {
   "cell_type": "code",
   "execution_count": 21,
   "outputs": [],
   "source": [
    "df['pred'] = df['rolling_price'] - df['price']"
   ],
   "metadata": {
    "collapsed": false
   }
  },
  {
   "cell_type": "code",
   "execution_count": 26,
   "outputs": [],
   "source": [
    "df = df[60:]"
   ],
   "metadata": {
    "collapsed": false
   }
  },
  {
   "cell_type": "code",
   "execution_count": 33,
   "outputs": [
    {
     "data": {
      "text/plain": "0.059987265533507445"
     },
     "execution_count": 33,
     "metadata": {},
     "output_type": "execute_result"
    }
   ],
   "source": [
    "mae(np.array(df['pred']).reshape(-1, 1), np.array(df['y']))"
   ],
   "metadata": {
    "collapsed": false
   }
  },
  {
   "cell_type": "markdown",
   "source": [
    "В целом - две юзлесс стратегии, первая дала результат чуть лучше, но на погрешность."
   ],
   "metadata": {
    "collapsed": false
   }
  },
  {
   "cell_type": "code",
   "execution_count": null,
   "outputs": [],
   "source": [],
   "metadata": {
    "collapsed": false
   }
  }
 ],
 "metadata": {
  "kernelspec": {
   "display_name": "Python 3",
   "language": "python",
   "name": "python3"
  },
  "language_info": {
   "codemirror_mode": {
    "name": "ipython",
    "version": 2
   },
   "file_extension": ".py",
   "mimetype": "text/x-python",
   "name": "python",
   "nbconvert_exporter": "python",
   "pygments_lexer": "ipython2",
   "version": "2.7.6"
  }
 },
 "nbformat": 4,
 "nbformat_minor": 0
}
